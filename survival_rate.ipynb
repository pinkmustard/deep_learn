{
 "cells": [
  {
   "cell_type": "code",
   "execution_count": 1,
   "metadata": {},
   "outputs": [],
   "source": [
    "from tensorflow.keras.models import Sequential\n",
    "from tensorflow.keras.layers import Dense\n",
    "import numpy as np"
   ]
  },
  {
   "cell_type": "code",
   "execution_count": 3,
   "metadata": {},
   "outputs": [],
   "source": [
    "# 수술 환자 데이터 로드\n",
    "data_set=np.loadtxt(\"./data/ThoraricSurgery3.csv\", delimiter=\",\")"
   ]
  },
  {
   "cell_type": "code",
   "execution_count": 4,
   "metadata": {},
   "outputs": [],
   "source": [
    "x = data_set[:,0:16] # 진찰기록\n",
    "y = data_set[:, 16] # 1년후 생존 여부"
   ]
  },
  {
   "cell_type": "code",
   "execution_count": 7,
   "metadata": {},
   "outputs": [],
   "source": [
    "# 딥러닝 모델 구조 결정\n",
    "model = Sequential()\n",
    "# 은닉층 + 입력층 역할 (노드 30개, 입력값 16개)\n",
    "model.add(Dense(30, input_dim=16, activation='relu'))\n",
    "# 출력층\n",
    "model.add(Dense(1, activation='sigmoid'))"
   ]
  },
  {
   "cell_type": "code",
   "execution_count": 10,
   "metadata": {},
   "outputs": [
    {
     "name": "stdout",
     "output_type": "stream",
     "text": [
      "Epoch 1/5\n",
      " 9/30 [========>.....................] - ETA: 0s - loss: 0.5960 - accuracy: 0.7847"
     ]
    },
    {
     "name": "stderr",
     "output_type": "stream",
     "text": [
      "2023-09-27 18:32:01.476886: I tensorflow/core/grappler/optimizers/custom_graph_optimizer_registry.cc:114] Plugin optimizer for device_type GPU is enabled.\n"
     ]
    },
    {
     "name": "stdout",
     "output_type": "stream",
     "text": [
      "30/30 [==============================] - 0s 8ms/step - loss: 0.4677 - accuracy: 0.8319\n",
      "Epoch 2/5\n",
      "30/30 [==============================] - 0s 6ms/step - loss: 0.4596 - accuracy: 0.8468\n",
      "Epoch 3/5\n",
      "30/30 [==============================] - 0s 6ms/step - loss: 0.4633 - accuracy: 0.8511\n",
      "Epoch 4/5\n",
      "30/30 [==============================] - 0s 6ms/step - loss: 0.4557 - accuracy: 0.8511\n",
      "Epoch 5/5\n",
      "30/30 [==============================] - 0s 6ms/step - loss: 0.4695 - accuracy: 0.8511\n"
     ]
    }
   ],
   "source": [
    "# 딥러닝 모델 실행\n",
    "# 모델을 컴퓨터가 알아들을 수 있게 컴파일\n",
    "model.compile(loss='binary_crossentropy', optimizer='adam', metrics=['accuracy'])\n",
    "# 모델을 실제로 실행하는 부분\n",
    "history = model.fit(x, y, epochs=5, batch_size=16) "
   ]
  },
  {
   "cell_type": "code",
   "execution_count": null,
   "metadata": {},
   "outputs": [],
   "source": []
  }
 ],
 "metadata": {
  "kernelspec": {
   "display_name": "deeplearn",
   "language": "python",
   "name": "python3"
  },
  "language_info": {
   "codemirror_mode": {
    "name": "ipython",
    "version": 3
   },
   "file_extension": ".py",
   "mimetype": "text/x-python",
   "name": "python",
   "nbconvert_exporter": "python",
   "pygments_lexer": "ipython3",
   "version": "3.8.17"
  },
  "orig_nbformat": 4
 },
 "nbformat": 4,
 "nbformat_minor": 2
}
